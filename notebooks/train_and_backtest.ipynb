{
  "cells": [
    {
      "cell_type": "markdown",
      "metadata": {},
      "source": [
        "# \ud83d\udcc8 Train ML Model & Run Backtest\n",
        "This notebook demonstrates how to train a machine learning model (XGBoost or LSTM) and backtest the resulting strategy using the Backtrader engine."
      ]
    },
    {
      "cell_type": "code",
      "execution_count": null,
      "metadata": {},
      "outputs": [],
      "source": [
        "# Setup\n",
        "%load_ext autoreload\n",
        "%autoreload 2\n",
        "import sys\n",
        "sys.path.append('..')\n",
        "\n",
        "from Quantlib.forecast.trainer import train_model\n",
        "from Quantlib.forecast.trainer.deep_trainer import train_lstm_model\n",
        "from Quantlib.backtest.engine import run_backtest\n",
        "from Quantlib.strategies.ml_signal_strategy import MLSignalStrategy"
      ]
    },
    {
      "cell_type": "code",
      "execution_count": null,
      "metadata": {},
      "outputs": [],
      "source": [
        "# Train XGBoost Model\n",
        "train_model(\n",
        "    df_path='../data/BTCUSDT.csv',\n",
        "    model_type='xgboost',\n",
        "    save_path='models/xgb_model.pkl'\n",
        ")"
      ]
    },
    {
      "cell_type": "code",
      "execution_count": null,
      "metadata": {},
      "outputs": [],
      "source": [
        "# Train LSTM Model\n",
        "train_lstm_model(\n",
        "    csv_path='../data/BTCUSDT.csv',\n",
        "    save_path='models/lstm_model.pt',\n",
        "    seq_len=10,\n",
        "    epochs=5\n",
        ")"
      ]
    },
    {
      "cell_type": "code",
      "execution_count": null,
      "metadata": {},
      "outputs": [],
      "source": [
        "# Backtest with ML Signal Strategy\n",
        "run_backtest(\n",
        "    strategy_class=lambda: MLSignalStrategy(use_ml=True, model_type='xgboost'),\n",
        "    data_path='../data/BTCUSDT.csv',\n",
        "    cash=100000,\n",
        "    plot=True\n",
        ")"
      ]
    }
  ],
  "metadata": {
    "kernelspec": {
      "display_name": "Python 3",
      "language": "python",
      "name": "python3"
    },
    "language_info": {
      "name": "python"
    }
  },
  "nbformat": 4,
  "nbformat_minor": 5
}