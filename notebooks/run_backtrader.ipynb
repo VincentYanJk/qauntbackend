{
 "cells": [
  {
   "cell_type": "code",
   "execution_count": null,
   "id": "setup",
   "metadata": {},
   "outputs": [],
   "source": [
    "%load_ext autoreload\n",
    "%autoreload 2\n",
    "import sys\n",
    "sys.path.append('..')\n",
    "from backtest.engine import run_backtest\n",
    "from strategies.sma_crossover import SMACrossover"
   ]
  },
  {
   "cell_type": "code",
   "execution_count": null,
   "id": "run-backtest",
   "metadata": {},
   "outputs": [],
   "source": [
    "run_backtest(\n",
    "    strategy_class=SMACrossover,\n",
    "    data_path='../data/BTCUSDT.csv',\n",
    "    cash=100000,\n",
    "    plot=True\n",
    ")"
   ]
  }
 ],
 "metadata": {
  "kernelspec": {
   "display_name": "Python 3",
   "language": "python",
   "name": "python3"
  },
  "language_info": {
   "name": "python",
   "version": ""
  }
 },
 "nbformat": 4,
 "nbformat_minor": 5
}