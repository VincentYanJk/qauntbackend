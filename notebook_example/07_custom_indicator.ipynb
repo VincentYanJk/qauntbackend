{
 "cells": [
  {
   "cell_type": "markdown",
   "id": "011a7c4a",
   "metadata": {},
   "source": [
    "# 📓 Example: Custom Indicator"
   ]
  },
  {
   "cell_type": "code",
   "execution_count": null,
   "id": "54618d2c",
   "metadata": {},
   "outputs": [],
   "source": [
    "# 🧠 Custom Indicator Example: Using MyCustomFactor in a Backtrader Strategy\n",
    "\n",
    "from backtrader import Cerebro\n",
    "from backtrader.feeds import PandasData\n",
    "import pandas as pd\n",
    "from Quantlib.indicators.my_custom_factor import MyCustomFactor\n",
    "from Quantlib.data.processor import preprocess_btc_csv\n",
    "\n",
    "import backtrader as bt\n",
    "\n",
    "class CustomFactorStrategy(bt.Strategy):\n",
    "    def __init__(self):\n",
    "        self.custom = MyCustomFactor(self.data)\n",
    "\n",
    "    def next(self):\n",
    "        if not self.position and self.custom[0] < self.data.close[0]:\n",
    "            self.buy()\n",
    "        elif self.position and self.custom[0] > self.data.close[0]:\n",
    "            self.sell()\n",
    "\n",
    "df = preprocess_btc_csv(\"data/BTCUSDT.csv\")\n",
    "\n",
    "data = bt.feeds.PandasData(dataname=df)\n",
    "cerebro = bt.Cerebro()\n",
    "cerebro.addstrategy(CustomFactorStrategy)\n",
    "cerebro.adddata(data)\n",
    "cerebro.run()\n",
    "cerebro.plot()"
   ]
  }
 ],
 "metadata": {},
 "nbformat": 4,
 "nbformat_minor": 5
}
