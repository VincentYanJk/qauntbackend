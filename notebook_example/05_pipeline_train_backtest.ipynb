{
 "cells": [
  {
   "cell_type": "markdown",
   "id": "8b2de6e4",
   "metadata": {},
   "source": [
    "# Pipeline-Based Training and Backtest"
   ]
  },
  {
   "cell_type": "code",
   "execution_count": null,
   "id": "a820af8b",
   "metadata": {},
   "outputs": [],
   "source": [
    "from Quantlib.visualization.visualize import plot_equity_curve\n",
    "plot_equity_curve([100000 + i*15 for i in range(100)])  # dummy equity for illustration"
   ]
  },
  {
   "cell_type": "code",
   "execution_count": null,
   "id": "e7fb0f79",
   "metadata": {},
   "outputs": [],
   "source": [
    "\n",
    "from Quantlib.forecast.pipeline import FactorPipeline\n",
    "from Quantlib.visualization.visualize import plot_equity_curve\n",
    "\n",
    "pipeline = FactorPipeline(\n",
    "    df_path=\"../data/BTCUSDT.csv\",\n",
    "    feature_set=[\"sma_ratio\", \"volatility\"],\n",
    "    model_type=\"xgboost\",\n",
    "    model_save_path=\"../models/xgb_auto.pkl\"\n",
    ")\n",
    "\n",
    "pipeline.train()\n",
    "equity = pipeline.backtest()\n",
    "plot_equity_curve(equity)\n"
   ]
  }
 ],
 "metadata": {},
 "nbformat": 4,
 "nbformat_minor": 5
}
