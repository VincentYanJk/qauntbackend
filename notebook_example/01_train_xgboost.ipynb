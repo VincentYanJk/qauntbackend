{
 "cells": [
  {
   "cell_type": "markdown",
   "id": "294576b0",
   "metadata": {},
   "source": [
    "# XGBoost Training Example"
   ]
  },
  {
   "cell_type": "code",
   "execution_count": null,
   "id": "e373acc5",
   "metadata": {},
   "outputs": [],
   "source": [
    "from Quantlib.forecast.trainer.trainer import train_model\n",
    "\n",
    "train_model(\n",
    "\n",
    "    df_path=\"../data/BTCUSDT.csv\",\n",
    "\n",
    "    model_type=\"xgboost\",\n",
    "\n",
    "    save_path=\"../models/xgb_model.pkl\"\n",
    "\n",
    ")"
   ]
  }
 ],
 "metadata": {},
 "nbformat": 4,
 "nbformat_minor": 5
}
