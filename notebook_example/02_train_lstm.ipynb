{
 "cells": [
  {
   "cell_type": "markdown",
   "id": "3c232937",
   "metadata": {},
   "source": [
    "# LSTM Training Example"
   ]
  },
  {
   "cell_type": "code",
   "execution_count": null,
   "id": "3524dedd",
   "metadata": {},
   "outputs": [],
   "source": [
    "from Quantlib.forecast.trainer.deep_trainer import train_lstm_model\n",
    "\n",
    "train_lstm_model(\n",
    "\n",
    "    csv_path=\"../data/BTCUSDT.csv\",\n",
    "\n",
    "    save_path=\"../models/lstm_model.pt\",\n",
    "\n",
    "    seq_len=10,\n",
    "\n",
    "    epochs=5\n",
    "\n",
    ")"
   ]
  }
 ],
 "metadata": {},
 "nbformat": 4,
 "nbformat_minor": 5
}
