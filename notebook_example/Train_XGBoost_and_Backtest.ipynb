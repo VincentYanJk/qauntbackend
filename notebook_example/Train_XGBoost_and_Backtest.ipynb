{
 "cells": [
  {
   "cell_type": "markdown",
   "id": "3853cdf6",
   "metadata": {},
   "source": [
    "# 📈 Train XGBoost & Backtest\n",
    "Train a model and run ML-driven strategy using Backtrader."
   ]
  },
  {
   "cell_type": "code",
   "execution_count": null,
   "id": "e8becd2b",
   "metadata": {},
   "outputs": [],
   "source": [
    "from Quantlib.forecast.trainer.trainer import train_modelfrom Quantlib.strategies.ml_signal_strategy import MLSignalStrategyfrom Quantlib.backtest.engine import run_backtest"
   ]
  },
  {
   "cell_type": "code",
   "execution_count": null,
   "id": "1c35eeed",
   "metadata": {},
   "outputs": [],
   "source": [
    "train_model(    df_path=\"../data/BTCUSDT.csv\",    model_type=\"xgboost\",    save_path=\"../models/xgb_model.pkl\")"
   ]
  },
  {
   "cell_type": "code",
   "execution_count": null,
   "id": "e9327634",
   "metadata": {},
   "outputs": [],
   "source": [
    "run_backtest(    strategy_class=lambda: MLSignalStrategy(use_ml=True, model_type=\"xgboost\"),    data_path=\"../data/BTCUSDT.csv\",    cash=100000,    plot=True)"
   ]
  },
  {
   "cell_type": "code",
   "execution_count": null,
   "id": "20adcbe5",
   "metadata": {},
   "outputs": [],
   "source": [
    "from Quantlib.visualization.visualize import (\n",
    "    plot_equity_curve,\n",
    "    plot_drawdown,\n",
    "    plot_signals,\n",
    "    save_trade_log\n",
    ")"
   ]
  },
  {
   "cell_type": "code",
   "execution_count": null,
   "id": "2a661787",
   "metadata": {},
   "outputs": [],
   "source": [
    "plot_equity_curve(df[\"equity\"])\n",
    "plot_drawdown(df[\"equity\"])\n",
    "plot_signals(df, df.get(\"buy_signal\"), df.get(\"sell_signal\"))\n",
    "save_trade_log(trades)"
   ]
  }
 ],
 "metadata": {},
 "nbformat": 4,
 "nbformat_minor": 5
}
