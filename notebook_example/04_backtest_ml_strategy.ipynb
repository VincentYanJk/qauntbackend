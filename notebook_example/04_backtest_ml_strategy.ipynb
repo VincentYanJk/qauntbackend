{
 "cells": [
  {
   "cell_type": "code",
   "execution_count": null,
   "id": "d45d2c49",
   "metadata": {},
   "outputs": [],
   "source": [
    "\n",
    "from Quantlib.strategies.ml_signal_strategy import MLSignalStrategy\n",
    "from Quantlib.backtest.engine import run_backtest\n",
    "from Quantlib.visualization.visualize import plot_equity_curve\n",
    "\n",
    "equity = run_backtest(\n",
    "    strategy_class=lambda: MLSignalStrategy(use_ml=True, model_type=\"xgboost\"),\n",
    "    data_path=\"../data/BTCUSDT.csv\",\n",
    "    cash=100000,\n",
    "    plot=False\n",
    ")\n",
    "plot_equity_curve(equity)\n"
   ]
  }
 ],
 "metadata": {},
 "nbformat": 4,
 "nbformat_minor": 5
}
