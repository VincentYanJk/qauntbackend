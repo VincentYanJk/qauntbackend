{
 "cells": [
  {
   "cell_type": "code",
   "execution_count": null,
   "id": "728a43e5",
   "metadata": {},
   "outputs": [],
   "source": [
    "\n",
    "from Quantlib.strategies.sma_crossover import SMACrossover\n",
    "from Quantlib.backtest.engine import run_backtest\n",
    "from Quantlib.visualization.visualize import plot_equity_curve\n",
    "\n",
    "equity = run_backtest(\n",
    "    strategy_class=SMACrossover,\n",
    "    data_path=\"../data/BTCUSDT.csv\",\n",
    "    cash=100000,\n",
    "    plot=False\n",
    ")\n",
    "plot_equity_curve(equity)\n"
   ]
  }
 ],
 "metadata": {},
 "nbformat": 4,
 "nbformat_minor": 5
}
