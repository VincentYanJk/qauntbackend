{
 "cells": [
  {
   "cell_type": "markdown",
   "id": "d22de96e",
   "metadata": {},
   "source": [
    "# 📓 Notebook: Live Trading (Polling + WebSocket)"
   ]
  },
  {
   "cell_type": "code",
   "execution_count": null,
   "id": "a6305922",
   "metadata": {},
   "outputs": [],
   "source": [
    "# 🚀 Live Trading Example (Polling or WebSocket)\n",
    "\n",
    "from run_live import run_live\n",
    "\n",
    "# Replace with your Binance API keys and model path\n",
    "api_key = \"your_api_key\"\n",
    "api_secret = \"your_api_secret\"\n",
    "model_path = \"models/xgb_model.pkl\"\n",
    "\n",
    "# ✅ Run in polling mode (simulated data every 60 seconds)\n",
    "run_live(\n",
    "    api_key=api_key,\n",
    "    api_secret=api_secret,\n",
    "    model_path=model_path,\n",
    "    symbol=\"BTCUSDT\",\n",
    "    features=[\"sma_ratio\", \"volatility\"],\n",
    "    qty=0.001,\n",
    "    interval=60,\n",
    "    use_websocket=False  # ← Polling mode\n",
    ")\n",
    "\n",
    "# 🌐 To enable WebSocket mode, set use_websocket=True\n",
    "# run_live(\n",
    "#     api_key=api_key,\n",
    "#     api_secret=api_secret,\n",
    "#     model_path=model_path,\n",
    "#     symbol=\"BTCUSDT\",\n",
    "#     features=[\"sma_ratio\", \"volatility\"],\n",
    "#     qty=0.001,\n",
    "#     interval=60,\n",
    "#     use_websocket=True  # ← WebSocket mode\n",
    "# )"
   ]
  }
 ],
 "metadata": {},
 "nbformat": 4,
 "nbformat_minor": 5
}
