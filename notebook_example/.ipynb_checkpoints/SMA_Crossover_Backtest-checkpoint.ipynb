{
 "cells": [
  {
   "cell_type": "markdown",
   "id": "e698292f",
   "metadata": {},
   "source": [
    "# SMA Crossover Strategy Backtest\n",
    "\n",
    "This notebook demonstrates how to implement and backtest a Simple Moving Average (SMA) crossover strategy using the Quantlib framework.\n",
    "\n",
    "## Strategy Overview\n",
    "The SMA crossover strategy is a trend-following strategy that generates trading signals based on the intersection of two moving averages:\n",
    "- Buy when the shorter-term SMA crosses above the longer-term SMA\n",
    "- Sell when the shorter-term SMA crosses below the longer-term SMA"
   ]
  },
  {
   "cell_type": "markdown",
   "id": "06ed61a5",
   "metadata": {},
   "source": [
    "## Setup and Imports\n",
    "First, let's import the necessary modules and check our Python environment:"
   ]
  },
  {
   "cell_type": "code",
   "execution_count": null,
   "id": "287abae0",
   "metadata": {},
   "outputs": [],
   "source": [
    "import sys\n",
    "print(f\"Using Python from: {sys.executable}\")\n",
    "\n",
    "from Quantlib.visualization.visualize import (\n",
    "    plot_equity_curve,\n",
    "    plot_drawdown,\n",
    "    plot_signals,\n",
    "    save_trade_log\n",
    ")\n",
    "\n",
    "from Quantlib.strategies.sma_crossover import SMACrossover\n",
    "from Quantlib.backtest.engine import run_backtest\n",
    "import os"
   ]
  },
  {
   "cell_type": "markdown",
   "id": "8a73fec6",
   "metadata": {},
   "source": [
    "## Running the Backtest\n",
    "\n",
    "Now we'll run the backtest with the following parameters:\n",
    "- Initial capital: $100,000\n",
    "- Trade size: 10% of portfolio per trade\n",
    "- Data: BTC daily prices"
   ]
  },
  {
   "cell_type": "code",
   "execution_count": null,
   "id": "ed1efaca",
   "metadata": {},
   "outputs": [],
   "source": [
    "# Verify data file exists\n",
    "data_path = \"data/BTC-Daily.csv\"\n",
    "if not os.path.exists(data_path):\n",
    "    raise FileNotFoundError(f\"Data file not found at {data_path}. Please check the file path.\")\n",
    "\n",
    "print(\"Running backtest...\")\n",
    "df, trades = run_backtest(\n",
    "    strategy_class=SMACrossover,  # Using SMACrossover strategy class\n",
    "    data_path=data_path,\n",
    "    cash=100000,\n",
    "    plot=True,\n",
    "    kwargs={'trade_size': 0.1}  # Trading with 10% of portfolio\n",
    ")\n",
    "print(\"Backtest completed successfully\")"
   ]
  },
  {
   "cell_type": "markdown",
   "id": "72f7237f",
   "metadata": {},
   "source": [
    "## Analyzing Results\n",
    "Let's visualize the backtest results using different plots:\n",
    "\n",
    "### 1. Equity Curve\n",
    "Shows how our portfolio value changes over time:"
   ]
  },
  {
   "cell_type": "code",
   "execution_count": null,
   "id": "6ba92c61",
   "metadata": {},
   "outputs": [],
   "source": [
    "print(\"Plotting equity curve...\")\n",
    "plot_equity_curve(df[\"equity\"])"
   ]
  },
  {
   "cell_type": "markdown",
   "id": "08a2873f",
   "metadata": {},
   "source": [
    "### 2. Drawdown Analysis\n",
    "Shows the magnitude and duration of portfolio drawdowns:"
   ]
  },
  {
   "cell_type": "code",
   "execution_count": null,
   "id": "b7a719b1",
   "metadata": {},
   "outputs": [],
   "source": [
    "print(\"Plotting drawdown...\")\n",
    "plot_drawdown(df[\"equity\"])"
   ]
  },
  {
   "cell_type": "markdown",
   "id": "ad23d337",
   "metadata": {},
   "source": [
    "### 3. Trade Signals\n",
    "Visualizes the buy and sell signals on the price chart:"
   ]
  },
  {
   "cell_type": "code",
   "execution_count": null,
   "id": "a7325322",
   "metadata": {},
   "outputs": [],
   "source": [
    "print(\"Plotting trade signals...\")\n",
    "plot_signals(df, df.get(\"buy_signal\"), df.get(\"sell_signal\"))"
   ]
  },
  {
   "cell_type": "markdown",
   "id": "356dde6e",
   "metadata": {},
   "source": [
    "### 4. Trade Log\n",
    "Save detailed information about each trade for further analysis:"
   ]
  },
  {
   "cell_type": "code",
   "execution_count": null,
   "id": "d3b1e06e",
   "metadata": {},
   "outputs": [],
   "source": [
    "print(\"Saving trade log...\")\n",
    "save_trade_log(trades)"
   ]
  },
  {
   "cell_type": "markdown",
   "id": "9a38c8cc",
   "metadata": {},
   "source": [
    "## Next Steps\n",
    "\n",
    "To improve the strategy, you might want to:\n",
    "1. Adjust the SMA periods\n",
    "2. Modify the position sizing\n",
    "3. Add stop-loss and take-profit rules\n",
    "4. Test on different timeframes or assets "
   ]
  }
 ],
 "metadata": {
  "jupytext": {
   "cell_metadata_filter": "-all",
   "main_language": "python",
   "notebook_metadata_filter": "-all"
  }
 },
 "nbformat": 4,
 "nbformat_minor": 5
}
