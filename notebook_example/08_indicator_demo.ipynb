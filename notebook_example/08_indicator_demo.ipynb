{
 "cells": [
  {
   "cell_type": "markdown",
   "id": "52a7ed9c",
   "metadata": {},
   "source": [
    "# Indicator Strategy Example: SMA + RSI"
   ]
  },
  {
   "cell_type": "code",
   "execution_count": null,
   "id": "db88b312",
   "metadata": {},
   "outputs": [],
   "source": [
    "# 📓 Indicator Demo Strategy: RSI + SMA Crossover\n",
    "\n",
    "from Quantlib.data.processor import preprocess_btc_csv\n",
    "from Quantlib.backtest.engine import run_backtest\n",
    "from Quantlib.visualization.visualize import plot_equity_curve\n",
    "import backtrader as bt\n",
    "\n",
    "from Quantlib.indicators.sma import SMA\n",
    "from Quantlib.indicators.rsi import RSI\n",
    "\n",
    "class SMARsiStrategy(bt.Strategy):\n",
    "    def __init__(self):\n",
    "        self.sma = SMA(self.data, period=20)\n",
    "        self.rsi = RSI(self.data, period=14)\n",
    "\n",
    "    def next(self):\n",
    "        if not self.position and self.data.close[0] > self.sma[0] and self.rsi[0] < 30:\n",
    "            self.buy()\n",
    "        elif self.position and self.data.close[0] < self.sma[0] and self.rsi[0] > 70:\n",
    "            self.sell()\n",
    "\n",
    "df = preprocess_btc_csv(\"data/BTCUSDT.csv\")\n",
    "equity = run_backtest(\n",
    "    strategy_class=SMARsiStrategy,\n",
    "    data_path=\"data/BTCUSDT.csv\",\n",
    "    cash=100000,\n",
    "    plot=False\n",
    ")\n",
    "plot_equity_curve(equity)"
   ]
  }
 ],
 "metadata": {},
 "nbformat": 4,
 "nbformat_minor": 5
}
