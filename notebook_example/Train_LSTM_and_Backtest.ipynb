{
 "cells": [
  {
   "cell_type": "markdown",
   "id": "61c15d61",
   "metadata": {},
   "source": [
    "# 🤖 Train LSTM & Backtest\n",
    "Train an LSTM model and run strategy driven by LSTM predictions."
   ]
  },
  {
   "cell_type": "code",
   "execution_count": null,
   "id": "5d81ec3c",
   "metadata": {},
   "outputs": [],
   "source": [
    "from Quantlib.forecast.trainer.deep_trainer import train_lstm_modelfrom Quantlib.strategies.ml_signal_strategy import MLSignalStrategyfrom Quantlib.backtest.engine import run_backtest"
   ]
  },
  {
   "cell_type": "code",
   "execution_count": null,
   "id": "3962088e",
   "metadata": {},
   "outputs": [],
   "source": [
    "train_lstm_model(    csv_path=\"../data/BTCUSDT.csv\",    save_path=\"../models/lstm_model.pt\",    seq_len=10,    epochs=5)"
   ]
  },
  {
   "cell_type": "code",
   "execution_count": null,
   "id": "b0003ab9",
   "metadata": {},
   "outputs": [],
   "source": [
    "run_backtest(    strategy_class=lambda: MLSignalStrategy(use_ml=True, model_type=\"lstm\"),    data_path=\"../data/BTCUSDT.csv\",    cash=100000,    plot=True)"
   ]
  },
  {
   "cell_type": "code",
   "execution_count": null,
   "id": "e267e0ad",
   "metadata": {},
   "outputs": [],
   "source": [
    "from Quantlib.visualization.visualize import (\n",
    "    plot_equity_curve,\n",
    "    plot_drawdown,\n",
    "    plot_signals,\n",
    "    save_trade_log\n",
    ")"
   ]
  },
  {
   "cell_type": "code",
   "execution_count": null,
   "id": "f0c1aec7",
   "metadata": {},
   "outputs": [],
   "source": [
    "plot_equity_curve(df[\"equity\"])\n",
    "plot_drawdown(df[\"equity\"])\n",
    "plot_signals(df, df.get(\"buy_signal\"), df.get(\"sell_signal\"))\n",
    "save_trade_log(trades)"
   ]
  }
 ],
 "metadata": {},
 "nbformat": 4,
 "nbformat_minor": 5
}
