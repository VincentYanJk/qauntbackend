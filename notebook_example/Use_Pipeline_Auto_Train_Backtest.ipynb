{
 "cells": [
  {
   "cell_type": "markdown",
   "id": "9c69afe8",
   "metadata": {},
   "source": [
    "# 🧠 Pipeline: Auto Train + Backtest\nUse FactorPipeline for streamlined training and strategy evaluation."
   ]
  },
  {
   "cell_type": "code",
   "execution_count": null,
   "id": "b03e4533",
   "metadata": {},
   "outputs": [],
   "source": [
    "from Quantlib.forecast.pipeline import FactorPipeline"
   ]
  },
  {
   "cell_type": "code",
   "execution_count": null,
   "id": "2ec50520",
   "metadata": {},
   "outputs": [],
   "source": [
    "pipeline = FactorPipeline(",
    "    df_path=\"../data/BTCUSDT.csv\",",
    "    feature_set=[\"sma_ratio\", \"volatility\"],",
    "    model_type=\"xgboost\",",
    "    model_save_path=\"../models/xgb_pipeline.pkl\"",
    ")",
    "pipeline.train()",
    "pipeline.backtest()"
   ]
  }
 ],
 "metadata": {},
 "nbformat": 4,
 "nbformat_minor": 5
}
